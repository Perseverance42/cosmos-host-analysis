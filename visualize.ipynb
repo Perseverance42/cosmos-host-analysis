{
 "cells": [
  {
   "cell_type": "code",
   "execution_count": null,
   "metadata": {},
   "outputs": [],
   "source": [
    "import pandas as pd\n",
    "import matplotlib.pyplot as plt\n",
    "import plotly.express as px\n",
    "\n",
    "# Load the CSV data\n",
    "df = pd.read_csv('data/host-analysis.csv')\n",
    "\n",
    "# 1. ISP Distribution Pie Chart\n",
    "plt.figure(figsize=(10, 8))\n",
    "isp_counts = df['isp'].value_counts().dropna()\n",
    "\n",
    "# Combine smaller ISPs into 'Other' category if more than 5 unique ISPs\n",
    "threshold = 14\n",
    "if len(isp_counts) > threshold:\n",
    "    other_count = isp_counts[threshold:].sum()\n",
    "    isp_counts = isp_counts[:threshold]\n",
    "    isp_counts['Other'] = other_count\n",
    "\n",
    "plt.pie(isp_counts.values, labels=isp_counts.index, \n",
    "        autopct=lambda p: f'{p:.1f}% ({int(p * sum(isp_counts.values) / 100)})', startangle=140)\n",
    "plt.title('ISP Distribution')\n",
    "plt.axis('equal')  # Ensure pie is circular\n",
    "plt.tight_layout()\n",
    "plt.show()\n",
    "\n",
    "# 2. Country Distribution Heatmap\n",
    "country_counts = df['country'].value_counts().dropna().reset_index()\n",
    "country_counts.columns = ['country', 'count']\n",
    "\n",
    "fig = px.choropleth(country_counts,\n",
    "                    locations='country',\n",
    "                    locationmode='country names',\n",
    "                    color='count',\n",
    "                    hover_name='country',\n",
    "                    color_continuous_scale='Viridis',\n",
    "                    title='Host Country Distribution')\n",
    "fig.update_layout(geo=dict(showframe=False, \n",
    "                          showcoastlines=False,\n",
    "                          projection_type='equirectangular'))\n",
    "fig.show()"
   ]
  }
 ],
 "metadata": {
  "kernelspec": {
   "display_name": ".venv",
   "language": "python",
   "name": "python3"
  },
  "language_info": {
   "codemirror_mode": {
    "name": "ipython",
    "version": 3
   },
   "file_extension": ".py",
   "mimetype": "text/x-python",
   "name": "python",
   "nbconvert_exporter": "python",
   "pygments_lexer": "ipython3",
   "version": "3.13.1"
  }
 },
 "nbformat": 4,
 "nbformat_minor": 2
}
